{
  "nbformat": 4,
  "nbformat_minor": 0,
  "metadata": {
    "colab": {
      "provenance": [],
      "authorship_tag": "ABX9TyNu1izkp5u3xipNy1FahZF9",
      "include_colab_link": true
    },
    "kernelspec": {
      "name": "python3",
      "display_name": "Python 3"
    },
    "language_info": {
      "name": "python"
    }
  },
  "cells": [
    {
      "cell_type": "markdown",
      "metadata": {
        "id": "view-in-github",
        "colab_type": "text"
      },
      "source": [
        "<a href=\"https://colab.research.google.com/github/GoryninLA/my_works_prog/blob/main/lab_03_02.ipynb\" target=\"_parent\"><img src=\"https://colab.research.google.com/assets/colab-badge.svg\" alt=\"Open In Colab\"/></a>"
      ]
    },
    {
      "cell_type": "code",
      "source": [
        "# Вариант 5.\n",
        "# 1. Реализовать бинарный поиск для отсортированного массива строк длиной от 3\n",
        "# до 10 символов. Найти строку «orange».\n",
        "# 2. Реализовать сортировку с помощью прямого выбора для массива строк длиной\n",
        "# от 3 до 10 символов.\n",
        "# 3. Реализовать пузырьковую сортировку для массива строк длиной от 3 до 10\n",
        "# символов.\n",
        "\n",
        "import random\n",
        "import string\n",
        "\n",
        "# Генерация случайной строки от 3 до 10 символов\n",
        "def random_string():\n",
        "    length = random.randint(3, 10)\n",
        "    return ''.join(random.choices(string.ascii_lowercase, k=length))\n",
        "\n",
        "# Генерация массива строк с обязательной вставкой 'orange'\n",
        "def generate_string_array(size=20):\n",
        "    arr = [random_string() for _ in range(size - 1)]\n",
        "    arr.append(\"orange\")  # гарантируем наличие 'orange'\n",
        "    return arr\n",
        "\n",
        "# Сортировка прямым включением (insertion sort)\n",
        "def insertion_sort(arr):\n",
        "    for i in range(1, len(arr)):\n",
        "        key = arr[i]\n",
        "        j = i - 1\n",
        "        while j >= 0 and arr[j] > key:\n",
        "            arr[j + 1] = arr[j]\n",
        "            j -= 1\n",
        "        arr[j + 1] = key\n",
        "    return arr\n",
        "\n",
        "# Бинарный поиск\n",
        "def binary_search(arr, target):\n",
        "    left, right = 0, len(arr) - 1\n",
        "    while left <= right:\n",
        "        mid = (left + right) // 2\n",
        "        if arr[mid] == target:\n",
        "            return mid\n",
        "        elif arr[mid] < target:\n",
        "            left = mid + 1\n",
        "        else:\n",
        "            right = mid - 1\n",
        "    return -1\n",
        "\n",
        "\n",
        "array = generate_string_array()\n",
        "print(\"Сгенерированный массив:\")\n",
        "print(array)\n",
        "\n",
        "sorted_array = insertion_sort(array)\n",
        "print(\"\\nОтсортированный массив (insertion sort):\")\n",
        "print(sorted_array)\n",
        "\n",
        "target = \"orange\"\n",
        "index = binary_search(sorted_array, target)\n",
        "\n",
        "if index != -1:\n",
        "    print(f\"\\n Строка '{target}' найдена по индексу {index}\")\n",
        "else:\n",
        "    print(f\"\\n Строка '{target}' не найдена\")\n"
      ],
      "metadata": {
        "colab": {
          "base_uri": "https://localhost:8080/"
        },
        "id": "ekMMiOKG9w5k",
        "outputId": "093b3ef5-ef90-4e16-e8fe-4576b5db9a96"
      },
      "execution_count": 1,
      "outputs": [
        {
          "output_type": "stream",
          "name": "stdout",
          "text": [
            "Сгенерированный массив:\n",
            "['pgsbiwfbo', 'tcmlioc', 'ggra', 'maywu', 'dej', 'foxczrs', 'jvrroqbgo', 'jrxgy', 'bcu', 'qrae', 'rlj', 'myspphd', 'hsn', 'gwl', 'bnssrmldv', 'kon', 'urpwfkyywp', 'iojchwwycy', 'haw', 'orange']\n",
            "\n",
            "Отсортированный массив (insertion sort):\n",
            "['bcu', 'bnssrmldv', 'dej', 'foxczrs', 'ggra', 'gwl', 'haw', 'hsn', 'iojchwwycy', 'jrxgy', 'jvrroqbgo', 'kon', 'maywu', 'myspphd', 'orange', 'pgsbiwfbo', 'qrae', 'rlj', 'tcmlioc', 'urpwfkyywp']\n",
            "\n",
            " Строка 'orange' найдена по индексу 14\n"
          ]
        }
      ]
    },
    {
      "cell_type": "code",
      "source": [
        "import random\n",
        "import string\n",
        "\n",
        "# Генерация случайной строки (длина 3–10 символов)\n",
        "def random_string():\n",
        "    length = random.randint(3, 10)\n",
        "    return ''.join(random.choices(string.ascii_lowercase, k=length))\n",
        "\n",
        "# Генерация массива строк с включением \"orange\"\n",
        "def generate_string_array(size=20):\n",
        "    arr = [random_string() for _ in range(size - 1)]\n",
        "    arr.append(\"orange\")\n",
        "    return arr\n",
        "\n",
        "# Сортировка прямым выбором (selection sort)\n",
        "def selection_sort(arr):\n",
        "    for i in range(len(arr)):\n",
        "        min_idx = i\n",
        "        for j in range(i+1, len(arr)):\n",
        "            if arr[j] < arr[min_idx]:\n",
        "                min_idx = j\n",
        "        # Обмен текущего элемента с минимальным\n",
        "        arr[i], arr[min_idx] = arr[min_idx], arr[i]\n",
        "    return arr\n",
        "\n",
        "\n",
        "array = generate_string_array()\n",
        "print(\"Сгенерированный массив:\")\n",
        "print(array)\n",
        "\n",
        "sorted_array = selection_sort(array)\n",
        "print(\"\\nОтсортированный массив (selection sort):\")\n",
        "print(sorted_array)\n"
      ],
      "metadata": {
        "colab": {
          "base_uri": "https://localhost:8080/"
        },
        "id": "45wEwjjv_9Q_",
        "outputId": "0073779e-0f7f-4dc1-f819-6a281e32538b"
      },
      "execution_count": 6,
      "outputs": [
        {
          "output_type": "stream",
          "name": "stdout",
          "text": [
            "Сгенерированный массив:\n",
            "['essss', 'aoudoade', 'xnbno', 'dvdhtycz', 'jpcxexq', 'drncc', 'jjavgebx', 'qts', 'wjcxeg', 'hlkzbdlf', 'dwxhdhrf', 'tlboy', 'irjtdw', 'rygpyl', 'zesqwwlzzs', 'hwt', 'igm', 'xkkbym', 'lmayflifln', 'orange']\n",
            "\n",
            "Отсортированный массив (selection sort):\n",
            "['aoudoade', 'drncc', 'dvdhtycz', 'dwxhdhrf', 'essss', 'hlkzbdlf', 'hwt', 'igm', 'irjtdw', 'jjavgebx', 'jpcxexq', 'lmayflifln', 'orange', 'qts', 'rygpyl', 'tlboy', 'wjcxeg', 'xkkbym', 'xnbno', 'zesqwwlzzs']\n"
          ]
        }
      ]
    },
    {
      "cell_type": "code",
      "source": [
        "import random\n",
        "import string\n",
        "\n",
        "# Генерация случайной строки от 3 до 10 символов\n",
        "def random_string():\n",
        "    length = random.randint(3, 10)\n",
        "    return ''.join(random.choices(string.ascii_lowercase, k=length))\n",
        "\n",
        "# Генерация массива строк с включением 'orange'\n",
        "def generate_string_array(size=20):\n",
        "    arr = [random_string() for _ in range(size - 1)]\n",
        "    arr.append(\"orange\")\n",
        "    return arr\n",
        "\n",
        "# Пузырьковая сортировка\n",
        "def bubble_sort(arr):\n",
        "    n = len(arr)\n",
        "    for i in range(n):\n",
        "        # Флаг для оптимизации — если ни одной перестановки, массив уже отсортирован\n",
        "        swapped = False\n",
        "        for j in range(0, n - i - 1):\n",
        "            if arr[j] > arr[j + 1]:\n",
        "                arr[j], arr[j + 1] = arr[j + 1], arr[j]\n",
        "                swapped = True\n",
        "        if not swapped:\n",
        "            break  # массив уже отсортирован\n",
        "    return arr\n",
        "\n",
        "\n",
        "array = generate_string_array()\n",
        "print(\"Сгенерированный массив:\")\n",
        "print(array)\n",
        "\n",
        "sorted_array = bubble_sort(array)\n",
        "print(\"\\nОтсортированный массив (bubble sort):\")\n",
        "print(sorted_array)\n"
      ],
      "metadata": {
        "colab": {
          "base_uri": "https://localhost:8080/"
        },
        "id": "gyEHCOX6AYHQ",
        "outputId": "14baeaee-71f8-4d03-8fd7-a46cf74e5344"
      },
      "execution_count": 7,
      "outputs": [
        {
          "output_type": "stream",
          "name": "stdout",
          "text": [
            "Сгенерированный массив:\n",
            "['nskbc', 'cxwdn', 'zcta', 'mmsmvezlo', 'xhlbec', 'eaywnhz', 'qyozkvlnyz', 'ziktjn', 'mrdgero', 'hgjfqce', 'sqtsoev', 'fflkss', 'iuetsfte', 'labrd', 'wrebiuf', 'ocrtmcutj', 'yhgfxgjbj', 'gbyema', 'tcomvau', 'orange']\n",
            "\n",
            "Отсортированный массив (bubble sort):\n",
            "['cxwdn', 'eaywnhz', 'fflkss', 'gbyema', 'hgjfqce', 'iuetsfte', 'labrd', 'mmsmvezlo', 'mrdgero', 'nskbc', 'ocrtmcutj', 'orange', 'qyozkvlnyz', 'sqtsoev', 'tcomvau', 'wrebiuf', 'xhlbec', 'yhgfxgjbj', 'zcta', 'ziktjn']\n"
          ]
        }
      ]
    }
  ]
}