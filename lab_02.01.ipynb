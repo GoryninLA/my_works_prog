{
  "nbformat": 4,
  "nbformat_minor": 0,
  "metadata": {
    "colab": {
      "provenance": [],
      "authorship_tag": "ABX9TyPqXrsWgvAY7QTlJTpy/Y1+",
      "include_colab_link": true
    },
    "kernelspec": {
      "name": "python3",
      "display_name": "Python 3"
    },
    "language_info": {
      "name": "python"
    }
  },
  "cells": [
    {
      "cell_type": "markdown",
      "metadata": {
        "id": "view-in-github",
        "colab_type": "text"
      },
      "source": [
        "<a href=\"https://colab.research.google.com/github/GoryninLA/my_works_prog/blob/main/lab_02.01.ipynb\" target=\"_parent\"><img src=\"https://colab.research.google.com/assets/colab-badge.svg\" alt=\"Open In Colab\"/></a>"
      ]
    },
    {
      "cell_type": "code",
      "execution_count": 22,
      "metadata": {
        "colab": {
          "base_uri": "https://localhost:8080/",
          "height": 822
        },
        "id": "ZIqHdiOuWjIu",
        "outputId": "248cac49-2c42-4005-8a90-3c697de04101"
      },
      "outputs": [
        {
          "output_type": "display_data",
          "data": {
            "text/plain": [
              "<Figure size 640x480 with 1 Axes>"
            ],
            "image/png": "[encoded data removed]"
          },
          "metadata": {}
        },
        {
          "output_type": "stream",
          "name": "stdout",
          "text": [
            "Матрица смежности:\n",
            "[0, 1, 1, 0, 0, 0]\n",
            "[1, 0, 0, 1, 0, 0]\n",
            "[1, 0, 0, 0, 0, 0]\n",
            "[0, 1, 0, 0, 1, 0]\n",
            "[0, 0, 0, 1, 0, 1]\n",
            "[0, 0, 0, 0, 1, 0]\n",
            "\n",
            "Матрица инцидентности:\n",
            "[1, 1, 0, 0, 0]\n",
            "[1, 0, 1, 0, 0]\n",
            "[0, 1, 0, 0, 0]\n",
            "[0, 0, 1, 1, 0]\n",
            "[0, 0, 0, 1, 1]\n",
            "[0, 0, 0, 0, 1]\n",
            "\n",
            "Компоненты связности графа:\n",
            "Компонента 1: [1, 2, 4, 5, 6, 3]\n"
          ]
        }
      ],
      "source": [
        "# Вариант 5.\n",
        "# 1. Построить граф из 6 вершин и ребер: (1,2), (1,3), (2,4), (4,5), (5,6).\n",
        "# 2. Построить матрицу смежности и матрицу инцидентности.\n",
        "# 3. Найти компоненты связности.\n",
        "\n",
        "# 1\n",
        "import networkx as nx\n",
        "import matplotlib.pyplot as plt\n",
        "\n",
        "edges = [(1,2), (1,3), (2,4), (4,5), (5,6)]\n",
        "\n",
        "G = nx.Graph()\n",
        "\n",
        "G.add_edges_from(edges)\n",
        "\n",
        "nx.draw(G, with_labels=True, node_color='lightblue', node_size=700, edge_color='gray')\n",
        "plt.show()\n",
        "\n",
        "\n",
        "# 2\n",
        "def create_adjacency_matrix(edges, num_vertices):\n",
        "  adjacency_matrix = [[0 for _ in range(num_vertices)] for _ in range(num_vertices)]\n",
        "  for edge in edges:\n",
        "    u, v = edge\n",
        "    adjacency_matrix[u - 1][v - 1] = 1\n",
        "    adjacency_matrix[v - 1][u - 1] = 1\n",
        "  return adjacency_matrix\n",
        "\n",
        "edges = [(1,2), (1,3), (2,4), (4,5), (5,6)]\n",
        "num_vertices = 6\n",
        "adjacency_matrix = create_adjacency_matrix(edges, num_vertices)\n",
        "\n",
        "print(\"Матрица смежности:\")\n",
        "for row in adjacency_matrix:\n",
        "  print(row)\n",
        "\n",
        "\n",
        "def create_incidence_matrix(edges, num_vertices):\n",
        "  num_edges = len(edges)\n",
        "  incidence_matrix = [[0 for _ in range(num_edges)] for _ in range(num_vertices)]\n",
        "  for edge_index, edge in enumerate(edges):\n",
        "    u, v = edge\n",
        "    incidence_matrix[u - 1][edge_index] = 1\n",
        "    incidence_matrix[v - 1][edge_index] = 1\n",
        "  return incidence_matrix\n",
        "\n",
        "incidence_matrix = create_incidence_matrix(edges, num_vertices)\n",
        "\n",
        "print(\"\\nМатрица инцидентности:\")\n",
        "for row in incidence_matrix:\n",
        "  print(row)\n",
        "\n",
        "\n",
        "# 3\n",
        "def find_connected_components(adjacency_matrix):\n",
        "  num_vertices = len(adjacency_matrix)\n",
        "  visited = [False] * num_vertices\n",
        "  components = []\n",
        "  def dfs(vertex, current_component):\n",
        "    visited[vertex] = True\n",
        "    current_component.append(vertex + 1)\n",
        "    for neighbor, is_connected in enumerate(adjacency_matrix[vertex]):\n",
        "      if is_connected and not visited[neighbor]:\n",
        "        dfs(neighbor, current_component)\n",
        "\n",
        "  for vertex in range(num_vertices):\n",
        "    if not visited[vertex]:\n",
        "      current_component = []\n",
        "      dfs(vertex, current_component)\n",
        "      components.append(current_component)\n",
        "\n",
        "  return components\n",
        "\n",
        "connected_components = find_connected_components(adjacency_matrix)\n",
        "\n",
        "print(\"\\nКомпоненты связности графа:\")\n",
        "for i, component in enumerate(connected_components, start=1):\n",
        "  print(f\"Компонента {i}: {component}\")"
      ]
    }
  ]
}